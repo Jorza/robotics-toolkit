{
 "cells": [
  {
   "cell_type": "code",
   "execution_count": 1,
   "metadata": {},
   "outputs": [],
   "source": [
    "import sympy as sp\n",
    "import roboticstoolkit as rtk"
   ]
  },
  {
   "cell_type": "markdown",
   "metadata": {},
   "source": [
    "# Rotations and Transformations"
   ]
  },
  {
   "cell_type": "markdown",
   "metadata": {},
   "source": [
    "### Describing Transformations"
   ]
  },
  {
   "cell_type": "markdown",
   "metadata": {},
   "source": [
    "> Consider 3 frames:  \n",
    "> Frame 1 is stationary, and frames 2 and 3 are initially coincident with frame 1.  \n",
    "> Frame 2 is rotated about the $x_2$ axis by $-28^\\circ$, then about $y_2$ by $-79^\\circ$ and then about $z_2$ by $56^\\circ$.  \n",
    "> Frame 3 is rotated about the $z_1$ axis by $28^\\circ$, then about $y_1$ by $-79^\\circ$ and then about $x_1$ by $56^\\circ$. Finally, the origin of frame 3 is translated to $[1, 2, 0]^T$.\n",
    ">\n",
    "> Find the rotation matrix that maps a point from frame 2 to frame 1. Given a point ${}^1P=[4, -2, 2]^T$, find ${}^2P$\n",
    "> Find the transformation matrices ${}^1_3T$ and ${}^3_1T$"
   ]
  },
  {
   "cell_type": "markdown",
   "metadata": {},
   "source": [
    "Frame 2 is rotated about the axes of the moving frame, so these are Euler angles. Postmultiply rotation matrices to give a rotation that maps a point from frame 2 to frame 1"
   ]
  },
  {
   "cell_type": "code",
   "execution_count": 2,
   "metadata": {},
   "outputs": [
    {
     "data": {
      "text/latex": [
       "$\\displaystyle \\left[\\begin{matrix}0.107 & -0.158 & -0.982\\\\0.99 & 0.112 & 0.0896\\\\0.0955 & -0.981 & 0.168\\end{matrix}\\right]$"
      ],
      "text/plain": [
       "Matrix([\n",
       "[ 0.107, -0.158, -0.982],\n",
       "[  0.99,  0.112, 0.0896],\n",
       "[0.0955, -0.981,  0.168]])"
      ]
     },
     "execution_count": 2,
     "metadata": {},
     "output_type": "execute_result"
    }
   ],
   "source": [
    "rotation = rtk.rot_x(-28 * sp.pi/180) * rtk.rot_y(-79 * sp.pi/180) * rtk.rot_z(56 * sp.pi/180)\n",
    "rotation = rtk.rotation(sp.N(sp.simplify(rotation), 3))\n",
    "rotation"
   ]
  },
  {
   "cell_type": "markdown",
   "metadata": {},
   "source": [
    "Find ${}^2P$:"
   ]
  },
  {
   "cell_type": "code",
   "execution_count": 3,
   "metadata": {},
   "outputs": [
    {
     "data": {
      "text/latex": [
       "$\\displaystyle \\left[\\begin{matrix}-1.36\\\\-2.82\\\\-3.77\\end{matrix}\\right]$"
      ],
      "text/plain": [
       "Matrix([\n",
       "[-1.36],\n",
       "[-2.82],\n",
       "[-3.77]])"
      ]
     },
     "execution_count": 3,
     "metadata": {},
     "output_type": "execute_result"
    }
   ],
   "source": [
    "p_in_1 = sp.Matrix([4, -2, 2])\n",
    "rotation.T * p_in_1"
   ]
  },
  {
   "cell_type": "markdown",
   "metadata": {},
   "source": [
    "Frame 3 is rotated about the axes of the fixed frame, so these are fixed angles. Premultiply rotation matrices to give a rotation that maps a point from frame 1 to a frame parallel to frame 3"
   ]
  },
  {
   "cell_type": "code",
   "execution_count": 4,
   "metadata": {},
   "outputs": [
    {
     "data": {
      "text/latex": [
       "$\\displaystyle \\left[\\begin{matrix}0.168 & -0.981 & -0.0955\\\\0.0896 & 0.112 & -0.99\\\\0.982 & 0.158 & 0.107\\end{matrix}\\right]$"
      ],
      "text/plain": [
       "Matrix([\n",
       "[ 0.168, -0.981, -0.0955],\n",
       "[0.0896,  0.112,   -0.99],\n",
       "[ 0.982,  0.158,   0.107]])"
      ]
     },
     "execution_count": 4,
     "metadata": {},
     "output_type": "execute_result"
    }
   ],
   "source": [
    "rotation = rtk.rot_z(28 * sp.pi/180) * rtk.rot_y(-79 * sp.pi/180) * rtk.rot_x(56 * sp.pi/180)\n",
    "rotation = rtk.rotation(sp.N(sp.simplify(rotation), 3))\n",
    "rotation"
   ]
  },
  {
   "cell_type": "markdown",
   "metadata": {},
   "source": [
    "Find the transformation matrices:"
   ]
  },
  {
   "cell_type": "code",
   "execution_count": 5,
   "metadata": {},
   "outputs": [
    {
     "data": {
      "text/latex": [
       "$\\displaystyle \\left[\\begin{matrix}0.168 & 0.0896 & 0.982 & 1\\\\-0.981 & 0.112 & 0.158 & 2\\\\-0.0955 & -0.99 & 0.107 & 0\\\\0 & 0 & 0 & 1\\end{matrix}\\right]$"
      ],
      "text/plain": [
       "Matrix([\n",
       "[  0.168, 0.0896, 0.982, 1],\n",
       "[ -0.981,  0.112, 0.158, 2],\n",
       "[-0.0955,  -0.99, 0.107, 0],\n",
       "[      0,      0,     0, 1]])"
      ]
     },
     "execution_count": 5,
     "metadata": {},
     "output_type": "execute_result"
    }
   ],
   "source": [
    "t_3_in_1 = rtk.trans(1, 2, 0)\n",
    "t_3_in_1[:3, :3] = rotation.T\n",
    "t_3_in_1"
   ]
  },
  {
   "cell_type": "code",
   "execution_count": 6,
   "metadata": {},
   "outputs": [
    {
     "data": {
      "text/latex": [
       "$\\displaystyle \\left[\\begin{matrix}0.168 & -0.981 & -0.0955 & 1.79\\\\0.0896 & 0.112 & -0.99 & -0.313\\\\0.982 & 0.158 & 0.107 & -1.3\\\\0 & 0 & 0 & 1\\end{matrix}\\right]$"
      ],
      "text/plain": [
       "Matrix([\n",
       "[ 0.168, -0.981, -0.0955,   1.79],\n",
       "[0.0896,  0.112,   -0.99, -0.313],\n",
       "[ 0.982,  0.158,   0.107,   -1.3],\n",
       "[     0,      0,       0,      1]])"
      ]
     },
     "execution_count": 6,
     "metadata": {},
     "output_type": "execute_result"
    }
   ],
   "source": [
    "t_1_in_3 = rtk.inverse_transform(t_3_in_1)\n",
    "t_1_in_3"
   ]
  },
  {
   "cell_type": "markdown",
   "metadata": {},
   "source": [
    "Check using the identity matrix:"
   ]
  },
  {
   "cell_type": "code",
   "execution_count": 7,
   "metadata": {},
   "outputs": [
    {
     "data": {
      "text/latex": [
       "$\\displaystyle \\left[\\begin{matrix}1.0 & 0 & 7.63 \\cdot 10^{-6} & 0\\\\0 & 1.0 & 0 & 0\\\\7.63 \\cdot 10^{-6} & 0 & 1.0 & 0\\\\0 & 0 & 0 & 1\\end{matrix}\\right]$"
      ],
      "text/plain": [
       "Matrix([\n",
       "[    1.0,   0, 7.63e-6, 0],\n",
       "[      0, 1.0,       0, 0],\n",
       "[7.63e-6,   0,     1.0, 0],\n",
       "[      0,   0,       0, 1]])"
      ]
     },
     "execution_count": 7,
     "metadata": {},
     "output_type": "execute_result"
    }
   ],
   "source": [
    "t_1_in_3 * t_3_in_1"
   ]
  },
  {
   "cell_type": "markdown",
   "metadata": {},
   "source": [
    "### Combining Transformations"
   ]
  },
  {
   "cell_type": "markdown",
   "metadata": {},
   "source": [
    ">In a 6-DOF robotic system, a camera is attached to the fifth link of the robot.\n",
    "The sixth link is the end-effector. The camera observes an object and determines its frame\n",
    "relative to the camera’s frame. Four frames, $F_5$, $F_E$, $F_{cam}$ and $F_{obj}$ , are attached to the\n",
    "fifth link, the end-effector, the camera, and the object, respectively.\n",
    ">\n",
    ">$$\n",
    "{}^5T_{cam} = \\left[\\begin{matrix}\n",
    "0 & 0 & -1 & 2\\\\\n",
    "0 & -1 & 0 & 1\\\\\n",
    "-1 & 0 & 0 & 6\\\\\n",
    "0 & 0 & 0 & 1\n",
    "\\end{matrix}\\right],\\quad\n",
    "\\\n",
    "{}^5T_E = \\left[\\begin{matrix}\n",
    "0 & -1 & 0 & 0\\\\\n",
    "1 & 0 & 0 & 2\\\\\n",
    "0 & 0 & 1 & 5\\\\\n",
    "0 & 0 & 0 & 1\n",
    "\\end{matrix}\\right],\\quad\n",
    "\\\n",
    "{}^{cam}T_{obj} = \\left[\\begin{matrix}\n",
    "0 & 0 & 1 & 2\\\\\n",
    "1 & 0 & 0 & 3\\\\\n",
    "0 & 1 & 0 & 5\\\\\n",
    "0 & 0 & 0 & 1\n",
    "\\end{matrix}\\right]$$\n",
    ">\n",
    "> Using the above information, determine the transformation matrix between $F_E$ and $F_{obj}$ and the distance between the end-effector and the object."
   ]
  },
  {
   "cell_type": "markdown",
   "metadata": {},
   "source": [
    "Find transformation matrix:"
   ]
  },
  {
   "cell_type": "code",
   "execution_count": 8,
   "metadata": {},
   "outputs": [
    {
     "data": {
      "text/latex": [
       "$\\displaystyle \\left[\\begin{matrix}-1 & 0 & 0 & -4\\\\0 & 1 & 0 & 3\\\\0 & 0 & -1 & -1\\\\0 & 0 & 0 & 1\\end{matrix}\\right]$"
      ],
      "text/plain": [
       "Matrix([\n",
       "[-1, 0,  0, -4],\n",
       "[ 0, 1,  0,  3],\n",
       "[ 0, 0, -1, -1],\n",
       "[ 0, 0,  0,  1]])"
      ]
     },
     "execution_count": 8,
     "metadata": {},
     "output_type": "execute_result"
    }
   ],
   "source": [
    "t_cam_in_5 = sp.Matrix([\n",
    "    [0, 0, -1, 2],\n",
    "    [0, -1, 0, 1],\n",
    "    [-1, 0, 0, 6],\n",
    "    [0, 0, 0, 1]\n",
    "])\n",
    "t_e_in_5 = sp.Matrix([\n",
    "    [0, -1, 0, 0],\n",
    "    [1, 0, 0, 2],\n",
    "    [0, 0, 1, 5],\n",
    "    [0, 0, 0, 1]\n",
    "])\n",
    "t_obj_in_cam = sp.Matrix([\n",
    "    [0, 0, 1, 2],\n",
    "    [1, 0, 0, 3],\n",
    "    [0, 1, 0, 5],\n",
    "    [0, 0, 0, 1]\n",
    "])\n",
    "t_obj_in_e = rtk.inverse_transform(t_e_in_5) * t_cam_in_5 * t_obj_in_cam\n",
    "t_obj_in_e"
   ]
  },
  {
   "cell_type": "markdown",
   "metadata": {},
   "source": [
    "Distance between end effector and object is the distance between the origins of the frames:"
   ]
  },
  {
   "cell_type": "code",
   "execution_count": 9,
   "metadata": {},
   "outputs": [
    {
     "data": {
      "text/latex": [
       "$\\displaystyle \\left[\\begin{matrix}-4\\\\3\\\\-1\\end{matrix}\\right]$"
      ],
      "text/plain": [
       "Matrix([\n",
       "[-4],\n",
       "[ 3],\n",
       "[-1]])"
      ]
     },
     "execution_count": 9,
     "metadata": {},
     "output_type": "execute_result"
    }
   ],
   "source": [
    "p_obj_in_e = rtk.translation(t_obj_in_e)\n",
    "p_obj_in_e"
   ]
  },
  {
   "cell_type": "code",
   "execution_count": 10,
   "metadata": {},
   "outputs": [
    {
     "data": {
      "text/latex": [
       "$\\displaystyle \\sqrt{26}$"
      ],
      "text/plain": [
       "sqrt(26)"
      ]
     },
     "execution_count": 10,
     "metadata": {},
     "output_type": "execute_result"
    }
   ],
   "source": [
    "sp.sqrt(p_obj_in_e.dot(p_obj_in_e))"
   ]
  },
  {
   "cell_type": "markdown",
   "metadata": {},
   "source": [
    "# Forward Kinematics"
   ]
  },
  {
   "cell_type": "markdown",
   "metadata": {},
   "source": [
    "### DH Parameters"
   ]
  },
  {
   "cell_type": "markdown",
   "metadata": {},
   "source": [
    "> Given a manipulator with the following DH parameters, find the incremental transformation matrices.  \n",
    "> Also find the matrix ${}^0_4T$ with the values $\\theta_1 = 90^\\circ$, $\\theta_2 = 45^\\circ$, $\\theta_3 = -45^\\circ$, $\\theta_4 = 90^\\circ$, $L_1 = L_2 = L_3 = L_4  =1$\n",
    ">\n",
    ">|   | $a_{i-1}$   | $\\alpha_{i-1}$ | $d_i$   | $\\theta_i$   |\n",
    ">|---|-------------|---------------|----------|--------------|\n",
    ">| 1 | $0$         | $0$           | $L_1$    | $\\theta_1$   |\n",
    ">| 2 | $L_2$       | $-\\pi/2$      | $0$      | $\\theta_2$   |\n",
    ">| 3 | $0$         | $\\pi/2$       | $L_3$    | $\\theta_3$   |\n",
    ">| 4 | $L_4$       | $-\\pi/2$      | $0$      | $\\theta_4$   |\n"
   ]
  },
  {
   "cell_type": "code",
   "execution_count": 11,
   "metadata": {},
   "outputs": [
    {
     "data": {
      "text/plain": [
       "[Matrix([\n",
       " [cos(theta1), -sin(theta1), 0,  0],\n",
       " [sin(theta1),  cos(theta1), 0,  0],\n",
       " [          0,            0, 1, L1],\n",
       " [          0,            0, 0,  1]]),\n",
       " Matrix([\n",
       " [ cos(theta2), -sin(theta2), 0, L2],\n",
       " [           0,            0, 1,  0],\n",
       " [-sin(theta2), -cos(theta2), 0,  0],\n",
       " [           0,            0, 0,  1]]),\n",
       " Matrix([\n",
       " [cos(theta3), -sin(theta3),  0,   0],\n",
       " [          0,            0, -1, -L3],\n",
       " [sin(theta3),  cos(theta3),  0,   0],\n",
       " [          0,            0,  0,   1]]),\n",
       " Matrix([\n",
       " [ cos(theta4), -sin(theta4), 0, L4],\n",
       " [           0,            0, 1,  0],\n",
       " [-sin(theta4), -cos(theta4), 0,  0],\n",
       " [           0,            0, 0,  1]])]"
      ]
     },
     "execution_count": 11,
     "metadata": {},
     "output_type": "execute_result"
    }
   ],
   "source": [
    "L1, L2, L3, L4, theta1, theta2, theta3, theta4 = sp.symbols('L1, L2, L3, L4, theta1, theta2, theta3, theta4')\n",
    "dh_table = [\n",
    "    [0, 0, L1, theta1],\n",
    "    [L2, -sp.pi/2, 0, theta2],\n",
    "    [0, sp.pi/2, L3, theta3],\n",
    "    [L4, -sp.pi/2, 0, theta4]\n",
    "]\n",
    "link_transforms = rtk.link_transforms(dh_table)\n",
    "link_transforms"
   ]
  },
  {
   "cell_type": "code",
   "execution_count": 12,
   "metadata": {},
   "outputs": [
    {
     "data": {
      "text/latex": [
       "$\\displaystyle \\left[\\begin{matrix}0 & - \\frac{\\sqrt{2}}{2} & - \\frac{\\sqrt{2}}{2} & \\frac{\\sqrt{2}}{2}\\\\- \\frac{\\sqrt{2}}{2} & - \\frac{1}{2} & \\frac{1}{2} & \\frac{\\sqrt{2}}{2} + \\frac{3}{2}\\\\- \\frac{\\sqrt{2}}{2} & \\frac{1}{2} & - \\frac{1}{2} & \\frac{1}{2} + \\frac{\\sqrt{2}}{2}\\\\0 & 0 & 0 & 1\\end{matrix}\\right]$"
      ],
      "text/plain": [
       "Matrix([\n",
       "[         0, -sqrt(2)/2, -sqrt(2)/2,       sqrt(2)/2],\n",
       "[-sqrt(2)/2,       -1/2,        1/2, sqrt(2)/2 + 3/2],\n",
       "[-sqrt(2)/2,        1/2,       -1/2, 1/2 + sqrt(2)/2],\n",
       "[         0,          0,          0,               1]])"
      ]
     },
     "execution_count": 12,
     "metadata": {},
     "output_type": "execute_result"
    }
   ],
   "source": [
    "subs_map = {theta1:sp.pi/2, theta2:sp.pi/4, theta3:-sp.pi/4, theta4:sp.pi/2, L1:1, L2:1, L3:1, L4:1}\n",
    "t_4 = rtk.end_transform(dh_table).subs(subs_map)\n",
    "t_4"
   ]
  },
  {
   "cell_type": "code",
   "execution_count": 13,
   "metadata": {},
   "outputs": [
    {
     "data": {
      "text/latex": [
       "$\\displaystyle \\left[\\begin{matrix}0 & -0.7071 & -0.7071 & 0.7071\\\\-0.7071 & -0.5 & 0.5 & 2.207\\\\-0.7071 & 0.5 & -0.5 & 1.207\\\\0 & 0 & 0 & 1.0\\end{matrix}\\right]$"
      ],
      "text/plain": [
       "Matrix([\n",
       "[      0, -0.7071, -0.7071, 0.7071],\n",
       "[-0.7071,    -0.5,     0.5,  2.207],\n",
       "[-0.7071,     0.5,    -0.5,  1.207],\n",
       "[      0,       0,       0,    1.0]])"
      ]
     },
     "execution_count": 13,
     "metadata": {},
     "output_type": "execute_result"
    }
   ],
   "source": [
    "sp.N(t_4, 4)"
   ]
  },
  {
   "cell_type": "markdown",
   "metadata": {},
   "source": [
    "### Forward Kinematics"
   ]
  },
  {
   "cell_type": "markdown",
   "metadata": {},
   "source": [
    "> The transformation matrices and end effector position vector for a robot are given by\n",
    ">$$\n",
    "{}^0T_1 = \\left[\\begin{matrix}\n",
    "c_1 & s_1 & 0 & 0\\\\\n",
    "-s_1 & c_1 & 0 & 0\\\\\n",
    "0 & 0 & 1 & 0\\\\\n",
    "0 & 0 & 0 & 1\n",
    "\\end{matrix}\\right],\\quad\n",
    "\\\n",
    "{}^1T_2 = \\left[\\begin{matrix}\n",
    "0 & -1 & 0 & 0\\\\\n",
    "0 & 0 & -1 & -d_2\\\\\n",
    "1 & 0 & 0 & 0\\\\\n",
    "0 & 0 & 0 & 1\n",
    "\\end{matrix}\\right],\\quad\n",
    "\\\n",
    "{}^2T_3 = \\left[\\begin{matrix}\n",
    "c_3 & -s_3 & 0 & 0\\\\\n",
    "0 & 0 & 1 & 0\\\\\n",
    "-s_3 & -c_3 & 0 & 0\\\\\n",
    "0 & 0 & 0 & 1\n",
    "\\end{matrix}\\right], \\quad\n",
    "\\\n",
    "{}^3p_{EE} = \\left[\\begin{matrix}\n",
    "L\\\\\n",
    "0\\\\\n",
    "0\n",
    "\\end{matrix}\\right]$$\n",
    "> where $c_i = \\cos(\\theta_i)$ and $s_i = \\sin(\\theta_i)$\n",
    ">\n",
    "> Given the joint variables $q = [\\theta_1, d_2, \\theta_3]^T$, derive the forward kinematics solutions for this robot giving a general position of the end effector as below.\n",
    ">$${}^0p_{EE} = \\left[\\begin{matrix}\n",
    "x\\\\\n",
    "y\\\\\n",
    "z\n",
    "\\end{matrix}\\right]$$"
   ]
  },
  {
   "cell_type": "markdown",
   "metadata": {},
   "source": [
    "Calculate the forward kinematics:"
   ]
  },
  {
   "cell_type": "code",
   "execution_count": 14,
   "metadata": {},
   "outputs": [
    {
     "data": {
      "text/latex": [
       "$\\displaystyle \\left[\\begin{matrix}L \\sin{\\left(\\theta_{1} \\right)} \\sin{\\left(\\theta_{3} \\right)} - d_{2} \\sin{\\left(\\theta_{1} \\right)}\\\\L \\sin{\\left(\\theta_{3} \\right)} \\cos{\\left(\\theta_{1} \\right)} - d_{2} \\cos{\\left(\\theta_{1} \\right)}\\\\L \\cos{\\left(\\theta_{3} \\right)}\\\\1\\end{matrix}\\right]$"
      ],
      "text/plain": [
       "Matrix([\n",
       "[L*sin(theta1)*sin(theta3) - d2*sin(theta1)],\n",
       "[L*sin(theta3)*cos(theta1) - d2*cos(theta1)],\n",
       "[                             L*cos(theta3)],\n",
       "[                                         1]])"
      ]
     },
     "execution_count": 14,
     "metadata": {},
     "output_type": "execute_result"
    }
   ],
   "source": [
    "theta1, d2, theta3, L = sp.symbols('theta1, d2, theta3, L')\n",
    "t_1 = rtk.rot_z(-theta1)\n",
    "t_2 = sp.Matrix([\n",
    "    [0, -1, 0, 0, ],\n",
    "    [0, 0, -1, -d2],\n",
    "    [1, 0, 0, 0],\n",
    "    [0, 0, 0, 1]\n",
    "])\n",
    "t_3 = sp.Matrix([\n",
    "    [sp.cos(theta3), -sp.sin(theta3), 0, 0],\n",
    "    [0, 0, 1, 0],\n",
    "    [-sp.sin(theta3), -sp.cos(theta3), 0, 0],\n",
    "    [0, 0, 0, 1]\n",
    "])\n",
    "p_ee = rtk.four_vector(sp.Matrix([L, 0, 0]))\n",
    "dk = t_1 * t_2 * t_3 * p_ee\n",
    "dk"
   ]
  },
  {
   "cell_type": "code",
   "execution_count": 15,
   "metadata": {},
   "outputs": [
    {
     "data": {
      "text/latex": [
       "$\\displaystyle \\left[\\begin{matrix}L \\sin{\\left(\\theta_{1} \\right)} \\sin{\\left(\\theta_{3} \\right)} - d_{2} \\sin{\\left(\\theta_{1} \\right)}\\\\L \\sin{\\left(\\theta_{3} \\right)} \\cos{\\left(\\theta_{1} \\right)} - d_{2} \\cos{\\left(\\theta_{1} \\right)}\\\\L \\cos{\\left(\\theta_{3} \\right)}\\end{matrix}\\right]$"
      ],
      "text/plain": [
       "Matrix([\n",
       "[L*sin(theta1)*sin(theta3) - d2*sin(theta1)],\n",
       "[L*sin(theta3)*cos(theta1) - d2*cos(theta1)],\n",
       "[                             L*cos(theta3)]])"
      ]
     },
     "execution_count": 15,
     "metadata": {},
     "output_type": "execute_result"
    }
   ],
   "source": [
    "rtk.three_vector(dk)"
   ]
  },
  {
   "cell_type": "markdown",
   "metadata": {},
   "source": [
    "We can use this to check an inverse kinematics solution.\n",
    "Consider the following end effector position, using $L=12$ and $d_2 > 10$:\n",
    "$${}^0p_{EE} = \\left[\\begin{matrix}\n",
    "x\\\\\n",
    "y\\\\\n",
    "z\n",
    "\\end{matrix}\\right] = \\left[\\begin{matrix}\n",
    "5\\\\\n",
    "8\\\\\n",
    "7\n",
    "\\end{matrix}\\right]$$"
   ]
  },
  {
   "cell_type": "markdown",
   "metadata": {},
   "source": [
    "Analytically, the inverse kinematics is given below:\n",
    "$$\\theta_3 = \\pm\\arccos(\\frac{z}{L})$$\n",
    "$$d_2 = L\\sin(\\theta_3) \\pm \\sqrt{x^2 + y^2}$$\n",
    "$$\\theta_1 = \\arctan2(\\frac{x}{L\\sin(\\theta_3) - d_2}, \\frac{y}{L\\sin(\\theta_3) - d_2})$$"
   ]
  },
  {
   "cell_type": "code",
   "execution_count": 16,
   "metadata": {},
   "outputs": [
    {
     "data": {
      "text/latex": [
       "$\\displaystyle 54.31$"
      ],
      "text/plain": [
       "54.31"
      ]
     },
     "execution_count": 16,
     "metadata": {},
     "output_type": "execute_result"
    }
   ],
   "source": [
    "x_val, y_val, z_val = 5, 8, 7\n",
    "L_val = 12\n",
    "theta3_val = sp.acos(z_val/L_val)\n",
    "sp.N(theta3_val * 180/sp.pi, 4)"
   ]
  },
  {
   "cell_type": "code",
   "execution_count": 17,
   "metadata": {},
   "outputs": [
    {
     "name": "stdout",
     "output_type": "stream",
     "text": [
      "9.747\n",
      "9.434\n"
     ]
    }
   ],
   "source": [
    "d_term1 = L_val*sp.sin(theta3_val)\n",
    "d_term2 = sp.sqrt(x_val**2 + y_val**2)\n",
    "print(sp.N(d_term1, 4))\n",
    "print(sp.N(d_term2, 4))"
   ]
  },
  {
   "cell_type": "markdown",
   "metadata": {},
   "source": [
    "We want $d_2 > 10$, so require both terms for $d_2$ be positive. This also requires $\\theta_3 > 0$."
   ]
  },
  {
   "cell_type": "code",
   "execution_count": 18,
   "metadata": {},
   "outputs": [
    {
     "data": {
      "text/latex": [
       "$\\displaystyle 19.18$"
      ],
      "text/plain": [
       "19.18"
      ]
     },
     "execution_count": 18,
     "metadata": {},
     "output_type": "execute_result"
    }
   ],
   "source": [
    "d2_val = d_term1 + d_term2\n",
    "sp.N(d2_val, 4)"
   ]
  },
  {
   "cell_type": "code",
   "execution_count": 19,
   "metadata": {},
   "outputs": [
    {
     "data": {
      "text/latex": [
       "$\\displaystyle -148.0$"
      ],
      "text/plain": [
       "-148.0"
      ]
     },
     "execution_count": 19,
     "metadata": {},
     "output_type": "execute_result"
    }
   ],
   "source": [
    "denom = L_val * sp.sin(theta3_val) - d2_val\n",
    "theta1_val = sp.atan2(x_val/denom, y_val/denom)\n",
    "sp.N(theta1_val * 180/sp.pi, 4)"
   ]
  },
  {
   "cell_type": "markdown",
   "metadata": {},
   "source": [
    "Substitute the values for the joint variables:\n",
    "$$\\theta_1 = -148.0^\\circ$$\n",
    "$$d_2 = 19.18$$\n",
    "$$\\theta_3 = 54.31^\\circ$$"
   ]
  },
  {
   "cell_type": "code",
   "execution_count": 20,
   "metadata": {},
   "outputs": [
    {
     "data": {
      "text/latex": [
       "$\\displaystyle \\left[\\begin{matrix}5.0\\\\8.0\\\\7.0\\\\1.0\\end{matrix}\\right]$"
      ],
      "text/plain": [
       "Matrix([\n",
       "[5.0],\n",
       "[8.0],\n",
       "[7.0],\n",
       "[1.0]])"
      ]
     },
     "execution_count": 20,
     "metadata": {},
     "output_type": "execute_result"
    }
   ],
   "source": [
    "sp.N(dk.subs({\n",
    "    theta1:theta1_val,\n",
    "    d2:d2_val,\n",
    "    theta3:theta3_val,\n",
    "    L:L_val\n",
    "}),4)"
   ]
  },
  {
   "cell_type": "markdown",
   "metadata": {},
   "source": [
    "# Dynamics"
   ]
  },
  {
   "cell_type": "markdown",
   "metadata": {},
   "source": [
    "### Lagrange Dynamics"
   ]
  },
  {
   "cell_type": "markdown",
   "metadata": {},
   "source": [
    "> Derive the kinetic (T) and potential energies (V) for each link of a robot where the information \n",
    "is given below. Assume that the links are modelled as point masses, $m_1$, $m_2$ and $m_3$. Each \n",
    "point mass is located at the middle of each link or at the end effector. There is no external \n",
    "force or moment on the end effector.\n",
    ">\n",
    "> The actuated joints for this robot are $q = [\\theta_1, \\theta_2, d_3]$.\n",
    ">\n",
    "> Transformation matrices:\n",
    ">$$\n",
    "{}^0T_1 = \\left[\\begin{matrix}\n",
    "c_1 & -s_1 & 0 & 0\\\\\n",
    "s_1 & c_1 & 0 & 0\\\\\n",
    "0 & 0 & 1 & L_1\\\\\n",
    "0 & 0 & 0 & 1\n",
    "\\end{matrix}\\right],\\quad\n",
    "\\\n",
    "{}^1T_2 = \\left[\\begin{matrix}\n",
    "c_2 & -s_2 & 0 & 0\\\\\n",
    "0 & 0 & -1 & 0\\\\\n",
    "s_2 & c_2 & 0 & 0\\\\\n",
    "0 & 0 & 0 & 1\n",
    "\\end{matrix}\\right],\\quad\n",
    "\\\n",
    "{}^2T_3 = \\left[\\begin{matrix}\n",
    "1 & 0 & 0 & 0\\\\\n",
    "0 & 0 & 1 & d_3\\\\\n",
    "0 & -1 & 0 & 0\\\\\n",
    "0 & 0 & 0 & 1\n",
    "\\end{matrix}\\right]$$\n",
    "> Locations of mass centres:\n",
    ">$$\n",
    "{}^1p_{c1} = \\left[\\begin{matrix}\n",
    "0\\\\\n",
    "0\\\\\n",
    "-L_1/2\n",
    "\\end{matrix}\\right],\\quad\n",
    "\\\n",
    "{}^2p_{c2} = \\left[\\begin{matrix}\n",
    "0\\\\\n",
    "d_3/2\\\\\n",
    "0\n",
    "\\end{matrix}\\right],\\quad\n",
    "\\\n",
    "{}^3p_{c3} = \\left[\\begin{matrix}\n",
    "0\\\\\n",
    "0\\\\\n",
    "0\n",
    "\\end{matrix}\\right]$$\n",
    "> Gravity is acting in the negative $z_0$ direction\n",
    ">\n",
    "> Also find the numerical value of the Lagrangian with the following variables:\n",
    ">$$L_1 = 0.5\\ m$$\n",
    ">$$q = [28^\\circ \\quad 79^\\circ \\quad 0.225\\ m]^T$$\n",
    ">$$\\dot{q} = [0.12\\ rad/s \\quad 0.05\\ rad/s \\quad 0.56\\ m/s]^T$$\n",
    ">$$g=10\\ m/s^2$$\n",
    ">$$m_1 = 2.8\\ kg, \\quad m_2 = 1.4\\ kg, \\quad m_3 = 0.8\\ kg$$"
   ]
  },
  {
   "cell_type": "code",
   "execution_count": 21,
   "metadata": {},
   "outputs": [
    {
     "name": "stdout",
     "output_type": "stream",
     "text": [
      "$$\\tau_{0} = 0$$\n",
      "$$\\tau_{1} = \\ddot{\\theta_1} \\left(\\frac{d_{3}^{2} m_{2} \\sin^{2}{\\left(\\theta_{2} \\right)}}{4} + d_{3}^{2} m_{3} \\sin^{2}{\\left(\\theta_{2} \\right)}\\right) + \\frac{\\dot{\\theta_1} \\dot{\\theta_2} d_{3}^{2} m_{2} \\sin{\\left(\\theta_{2} \\right)} \\cos{\\left(\\theta_{2} \\right)}}{2} + 2 \\dot{\\theta_1} \\dot{\\theta_2} d_{3}^{2} m_{3} \\sin{\\left(\\theta_{2} \\right)} \\cos{\\left(\\theta_{2} \\right)} + \\frac{\\dot{\\theta_1} \\dot{d_3} d_{3} m_{2} \\sin^{2}{\\left(\\theta_{2} \\right)}}{2} + 2 \\dot{\\theta_1} \\dot{d_3} d_{3} m_{3} \\sin^{2}{\\left(\\theta_{2} \\right)}$$\n",
      "$$\\tau_{2} = \\ddot{\\theta_2} \\left(\\frac{d_{3}^{2} m_{2}}{4} + d_{3}^{2} m_{3}\\right) - \\frac{\\dot{\\theta_1}^{2} d_{3}^{2} m_{2} \\sin{\\left(\\theta_{2} \\right)} \\cos{\\left(\\theta_{2} \\right)}}{4} - \\dot{\\theta_1}^{2} d_{3}^{2} m_{3} \\sin{\\left(\\theta_{2} \\right)} \\cos{\\left(\\theta_{2} \\right)} + \\frac{\\dot{\\theta_2} \\dot{d_3} d_{3} m_{2}}{2} + 2 \\dot{\\theta_2} \\dot{d_3} d_{3} m_{3} - \\frac{d_{3} g m_{2} \\sin{\\left(\\theta_{2} \\right)}}{2} - d_{3} g m_{3} \\sin{\\left(\\theta_{2} \\right)}$$\n",
      "$$\\tau_{3} = \\ddot{d_3} \\left(\\frac{m_{2}}{4} + m_{3}\\right) - \\frac{\\dot{\\theta_1}^{2} d_{3} m_{2} \\sin^{2}{\\left(\\theta_{2} \\right)}}{4} - \\dot{\\theta_1}^{2} d_{3} m_{3} \\sin^{2}{\\left(\\theta_{2} \\right)} - \\frac{\\dot{\\theta_2}^{2} d_{3} m_{2}}{4} - \\dot{\\theta_2}^{2} d_{3} m_{3} + \\frac{g m_{2} \\cos{\\left(\\theta_{2} \\right)}}{2} + g m_{3} \\cos{\\left(\\theta_{2} \\right)}$$\n",
      "$$p_{c0} = \\left[\\begin{matrix}0\\\\0\\\\0\\end{matrix}\\right]$$\n",
      "$$p_{c1} = \\left[\\begin{matrix}0\\\\0\\\\\\frac{L_{1}}{2}\\end{matrix}\\right]$$\n",
      "$$p_{c2} = \\left[\\begin{matrix}- \\frac{d_{3} \\sin{\\left(\\theta_{2} \\right)} \\cos{\\left(\\theta_{1} \\right)}}{2}\\\\- \\frac{d_{3} \\sin{\\left(\\theta_{1} \\right)} \\sin{\\left(\\theta_{2} \\right)}}{2}\\\\L_{1} + \\frac{d_{3} \\cos{\\left(\\theta_{2} \\right)}}{2}\\end{matrix}\\right]$$\n",
      "$$p_{c3} = \\left[\\begin{matrix}- d_{3} \\sin{\\left(\\theta_{2} \\right)} \\cos{\\left(\\theta_{1} \\right)}\\\\- d_{3} \\sin{\\left(\\theta_{1} \\right)} \\sin{\\left(\\theta_{2} \\right)}\\\\L_{1} + d_{3} \\cos{\\left(\\theta_{2} \\right)}\\end{matrix}\\right]$$\n",
      "$$v_{c0} = \\left[\\begin{matrix}0\\\\0\\\\0\\end{matrix}\\right]$$\n",
      "$$v_{c1} = \\left[\\begin{matrix}0\\\\0\\\\0\\end{matrix}\\right]$$\n",
      "$$v_{c2} = \\left[\\begin{matrix}\\frac{\\dot{\\theta_1} d_{3} \\sin{\\left(\\theta_{1} \\right)} \\sin{\\left(\\theta_{2} \\right)}}{2} - \\frac{\\dot{\\theta_2} d_{3} \\cos{\\left(\\theta_{1} \\right)} \\cos{\\left(\\theta_{2} \\right)}}{2} - \\frac{\\dot{d_3} \\sin{\\left(\\theta_{2} \\right)} \\cos{\\left(\\theta_{1} \\right)}}{2}\\\\- \\frac{\\dot{\\theta_1} d_{3} \\sin{\\left(\\theta_{2} \\right)} \\cos{\\left(\\theta_{1} \\right)}}{2} - \\frac{\\dot{\\theta_2} d_{3} \\sin{\\left(\\theta_{1} \\right)} \\cos{\\left(\\theta_{2} \\right)}}{2} - \\frac{\\dot{d_3} \\sin{\\left(\\theta_{1} \\right)} \\sin{\\left(\\theta_{2} \\right)}}{2}\\\\- \\frac{\\dot{\\theta_2} d_{3} \\sin{\\left(\\theta_{2} \\right)}}{2} + \\frac{\\dot{d_3} \\cos{\\left(\\theta_{2} \\right)}}{2}\\end{matrix}\\right]$$\n",
      "$$v_{c3} = \\left[\\begin{matrix}\\dot{\\theta_1} d_{3} \\sin{\\left(\\theta_{1} \\right)} \\sin{\\left(\\theta_{2} \\right)} - \\dot{\\theta_2} d_{3} \\cos{\\left(\\theta_{1} \\right)} \\cos{\\left(\\theta_{2} \\right)} - \\dot{d_3} \\sin{\\left(\\theta_{2} \\right)} \\cos{\\left(\\theta_{1} \\right)}\\\\- \\dot{\\theta_1} d_{3} \\sin{\\left(\\theta_{2} \\right)} \\cos{\\left(\\theta_{1} \\right)} - \\dot{\\theta_2} d_{3} \\sin{\\left(\\theta_{1} \\right)} \\cos{\\left(\\theta_{2} \\right)} - \\dot{d_3} \\sin{\\left(\\theta_{1} \\right)} \\sin{\\left(\\theta_{2} \\right)}\\\\- \\dot{\\theta_2} d_{3} \\sin{\\left(\\theta_{2} \\right)} + \\dot{d_3} \\cos{\\left(\\theta_{2} \\right)}\\end{matrix}\\right]$$\n",
      "$$\\omega_{0} = \\left[\\begin{matrix}0\\\\0\\\\0\\end{matrix}\\right]$$\n",
      "$$\\omega_{1} = \\left[\\begin{matrix}0\\\\0\\\\\\dot{\\theta_1}\\end{matrix}\\right]$$\n",
      "$$\\omega_{2} = \\left[\\begin{matrix}\\dot{\\theta_1} \\sin{\\left(\\theta_{2} \\right)}\\\\\\dot{\\theta_1} \\cos{\\left(\\theta_{2} \\right)}\\\\\\dot{\\theta_2}\\end{matrix}\\right]$$\n",
      "$$\\omega_{3} = \\left[\\begin{matrix}\\dot{\\theta_1} \\sin{\\left(\\theta_{2} \\right)}\\\\- \\dot{\\theta_2}\\\\\\dot{\\theta_1} \\cos{\\left(\\theta_{2} \\right)}\\end{matrix}\\right]$$\n",
      "$$K_{0} = 0$$\n",
      "$$K_{1} = 0$$\n",
      "$$K_{2} = \\frac{m_{2} \\left(\\dot{\\theta_1}^{2} d_{3}^{2} \\sin^{2}{\\left(\\theta_{2} \\right)} + \\dot{\\theta_2}^{2} d_{3}^{2} + \\dot{d_3}^{2}\\right)}{8}$$\n",
      "$$K_{3} = \\frac{m_{3} \\left(\\dot{\\theta_1}^{2} d_{3}^{2} \\sin^{2}{\\left(\\theta_{2} \\right)} + \\dot{\\theta_2}^{2} d_{3}^{2} + \\dot{d_3}^{2}\\right)}{2}$$\n",
      "$$V_{0} = 0$$\n",
      "$$V_{1} = \\frac{L_{1} g m_{1}}{2}$$\n",
      "$$V_{2} = \\frac{g m_{2} \\cdot \\left(2 L_{1} + d_{3} \\cos{\\left(\\theta_{2} \\right)}\\right)}{2}$$\n",
      "$$V_{3} = g m_{3} \\left(L_{1} + d_{3} \\cos{\\left(\\theta_{2} \\right)}\\right)$$\n",
      "$$K_{total} = \\left(\\frac{m_{2}}{8} + \\frac{m_{3}}{2}\\right) \\left(\\dot{\\theta_1}^{2} d_{3}^{2} \\sin^{2}{\\left(\\theta_{2} \\right)} + \\dot{\\theta_2}^{2} d_{3}^{2} + \\dot{d_3}^{2}\\right)$$\n",
      "$$V_{total} = \\frac{g \\left(L_{1} m_{1} + m_{2} \\cdot \\left(2 L_{1} + d_{3} \\cos{\\left(\\theta_{2} \\right)}\\right) + 2 m_{3} \\left(L_{1} + d_{3} \\cos{\\left(\\theta_{2} \\right)}\\right)\\right)}{2}$$\n",
      "$$L = - \\frac{g \\left(L_{1} m_{1} + m_{2} \\cdot \\left(2 L_{1} + d_{3} \\cos{\\left(\\theta_{2} \\right)}\\right) + 2 m_{3} \\left(L_{1} + d_{3} \\cos{\\left(\\theta_{2} \\right)}\\right)\\right)}{2} + \\left(\\frac{m_{2}}{8} + \\frac{m_{3}}{2}\\right) \\left(\\dot{\\theta_1}^{2} d_{3}^{2} \\sin^{2}{\\left(\\theta_{2} \\right)} + \\dot{\\theta_2}^{2} d_{3}^{2} + \\dot{d_3}^{2}\\right)$$\n"
     ]
    }
   ],
   "source": [
    "# Define symbolic variables\n",
    "theta1, theta2, d3 = sp.symbols('theta1, theta2, d3')\n",
    "L1, m1, m2, m3, g = sp.symbols('L1, m1, m2, m3, g')\n",
    "\n",
    "# Define the manipulator\n",
    "transforms = [\n",
    "    rtk.screw_z(L1, theta1),\n",
    "    sp.Matrix([\n",
    "        [sp.cos(theta2), -sp.sin(theta2), 0, 0],\n",
    "        [0, 0, -1, 0],\n",
    "        [sp.sin(theta2), sp.cos(theta2), 0, 0],\n",
    "        [0, 0, 0, 1]\n",
    "    ]),\n",
    "    sp.Matrix([\n",
    "        [1, 0, 0, 0],\n",
    "        [0, 0, 1, d3],\n",
    "        [0, -1, 0, 0],\n",
    "        [0, 0, 0, 1]\n",
    "    ]),\n",
    "    rtk.trans(0, 0, 0)\n",
    "]\n",
    "pos_coms = [\n",
    "    sp.zeros(3, 1),\n",
    "    sp.Matrix([0, 0, -L1/2]),\n",
    "    sp.Matrix([0, d3/2, 0]),\n",
    "    sp.zeros(3, 1)\n",
    "]\n",
    "masses = [0, m1, m2, m3]\n",
    "inertias = [sp.zeros(3) for _ in range(4)]  # Point masses, so no inertia\n",
    "joint_types = [0, 'R', 'R', 'P']\n",
    "\n",
    "# Define gravity\n",
    "gravity = sp.Matrix([0, 0, -g])\n",
    "\n",
    "# Define symbols for the variables (for Lagrange)\n",
    "variables = theta1, theta2, d3\n",
    "\n",
    "# Solve the inverse dynamics, print the equations in latex\n",
    "equations_lagrange = rtk.dynamics_lagrange(transforms, pos_coms, masses, inertias, joint_types, gravity, variables)\n",
    "rtk.print_equations_dict(equations_lagrange, latex=True)"
   ]
  },
  {
   "cell_type": "markdown",
   "metadata": {},
   "source": [
    "Copy the $\\LaTeX$ formatted equations into a markdown cell to print them all below.  \n",
    "The individual kinetic and potential energies are included."
   ]
  },
  {
   "cell_type": "markdown",
   "metadata": {},
   "source": [
    "$$\\tau_{0} = 0$$\n",
    "$$\\tau_{1} = \\ddot{\\theta_1} \\left(\\frac{d_{3}^{2} m_{2} \\sin^{2}{\\left(\\theta_{2} \\right)}}{4} + d_{3}^{2} m_{3} \\sin^{2}{\\left(\\theta_{2} \\right)}\\right) + \\frac{\\dot{\\theta_1} \\dot{\\theta_2} d_{3}^{2} m_{2} \\sin{\\left(\\theta_{2} \\right)} \\cos{\\left(\\theta_{2} \\right)}}{2} + 2 \\dot{\\theta_1} \\dot{\\theta_2} d_{3}^{2} m_{3} \\sin{\\left(\\theta_{2} \\right)} \\cos{\\left(\\theta_{2} \\right)} + \\frac{\\dot{\\theta_1} \\dot{d_3} d_{3} m_{2} \\sin^{2}{\\left(\\theta_{2} \\right)}}{2} + 2 \\dot{\\theta_1} \\dot{d_3} d_{3} m_{3} \\sin^{2}{\\left(\\theta_{2} \\right)}$$\n",
    "$$\\tau_{2} = \\ddot{\\theta_2} \\left(\\frac{d_{3}^{2} m_{2}}{4} + d_{3}^{2} m_{3}\\right) - \\frac{\\dot{\\theta_1}^{2} d_{3}^{2} m_{2} \\sin{\\left(\\theta_{2} \\right)} \\cos{\\left(\\theta_{2} \\right)}}{4} - \\dot{\\theta_1}^{2} d_{3}^{2} m_{3} \\sin{\\left(\\theta_{2} \\right)} \\cos{\\left(\\theta_{2} \\right)} + \\frac{\\dot{\\theta_2} \\dot{d_3} d_{3} m_{2}}{2} + 2 \\dot{\\theta_2} \\dot{d_3} d_{3} m_{3} - \\frac{d_{3} g m_{2} \\sin{\\left(\\theta_{2} \\right)}}{2} - d_{3} g m_{3} \\sin{\\left(\\theta_{2} \\right)}$$\n",
    "$$\\tau_{3} = \\ddot{d_3} \\left(\\frac{m_{2}}{4} + m_{3}\\right) - \\frac{\\dot{\\theta_1}^{2} d_{3} m_{2} \\sin^{2}{\\left(\\theta_{2} \\right)}}{4} - \\dot{\\theta_1}^{2} d_{3} m_{3} \\sin^{2}{\\left(\\theta_{2} \\right)} - \\frac{\\dot{\\theta_2}^{2} d_{3} m_{2}}{4} - \\dot{\\theta_2}^{2} d_{3} m_{3} + \\frac{g m_{2} \\cos{\\left(\\theta_{2} \\right)}}{2} + g m_{3} \\cos{\\left(\\theta_{2} \\right)}$$\n",
    "$$p_{c0} = \\left[\\begin{matrix}0\\\\0\\\\0\\end{matrix}\\right]$$\n",
    "$$p_{c1} = \\left[\\begin{matrix}0\\\\0\\\\\\frac{L_{1}}{2}\\end{matrix}\\right]$$\n",
    "$$p_{c2} = \\left[\\begin{matrix}- \\frac{d_{3} \\sin{\\left(\\theta_{2} \\right)} \\cos{\\left(\\theta_{1} \\right)}}{2}\\\\- \\frac{d_{3} \\sin{\\left(\\theta_{1} \\right)} \\sin{\\left(\\theta_{2} \\right)}}{2}\\\\L_{1} + \\frac{d_{3} \\cos{\\left(\\theta_{2} \\right)}}{2}\\end{matrix}\\right]$$\n",
    "$$p_{c3} = \\left[\\begin{matrix}- d_{3} \\sin{\\left(\\theta_{2} \\right)} \\cos{\\left(\\theta_{1} \\right)}\\\\- d_{3} \\sin{\\left(\\theta_{1} \\right)} \\sin{\\left(\\theta_{2} \\right)}\\\\L_{1} + d_{3} \\cos{\\left(\\theta_{2} \\right)}\\end{matrix}\\right]$$\n",
    "$$v_{c0} = \\left[\\begin{matrix}0\\\\0\\\\0\\end{matrix}\\right]$$\n",
    "$$v_{c1} = \\left[\\begin{matrix}0\\\\0\\\\0\\end{matrix}\\right]$$\n",
    "$$v_{c2} = \\left[\\begin{matrix}\\frac{\\dot{\\theta_1} d_{3} \\sin{\\left(\\theta_{1} \\right)} \\sin{\\left(\\theta_{2} \\right)}}{2} - \\frac{\\dot{\\theta_2} d_{3} \\cos{\\left(\\theta_{1} \\right)} \\cos{\\left(\\theta_{2} \\right)}}{2} - \\frac{\\dot{d_3} \\sin{\\left(\\theta_{2} \\right)} \\cos{\\left(\\theta_{1} \\right)}}{2}\\\\- \\frac{\\dot{\\theta_1} d_{3} \\sin{\\left(\\theta_{2} \\right)} \\cos{\\left(\\theta_{1} \\right)}}{2} - \\frac{\\dot{\\theta_2} d_{3} \\sin{\\left(\\theta_{1} \\right)} \\cos{\\left(\\theta_{2} \\right)}}{2} - \\frac{\\dot{d_3} \\sin{\\left(\\theta_{1} \\right)} \\sin{\\left(\\theta_{2} \\right)}}{2}\\\\- \\frac{\\dot{\\theta_2} d_{3} \\sin{\\left(\\theta_{2} \\right)}}{2} + \\frac{\\dot{d_3} \\cos{\\left(\\theta_{2} \\right)}}{2}\\end{matrix}\\right]$$\n",
    "$$v_{c3} = \\left[\\begin{matrix}\\dot{\\theta_1} d_{3} \\sin{\\left(\\theta_{1} \\right)} \\sin{\\left(\\theta_{2} \\right)} - \\dot{\\theta_2} d_{3} \\cos{\\left(\\theta_{1} \\right)} \\cos{\\left(\\theta_{2} \\right)} - \\dot{d_3} \\sin{\\left(\\theta_{2} \\right)} \\cos{\\left(\\theta_{1} \\right)}\\\\- \\dot{\\theta_1} d_{3} \\sin{\\left(\\theta_{2} \\right)} \\cos{\\left(\\theta_{1} \\right)} - \\dot{\\theta_2} d_{3} \\sin{\\left(\\theta_{1} \\right)} \\cos{\\left(\\theta_{2} \\right)} - \\dot{d_3} \\sin{\\left(\\theta_{1} \\right)} \\sin{\\left(\\theta_{2} \\right)}\\\\- \\dot{\\theta_2} d_{3} \\sin{\\left(\\theta_{2} \\right)} + \\dot{d_3} \\cos{\\left(\\theta_{2} \\right)}\\end{matrix}\\right]$$\n",
    "$$\\omega_{0} = \\left[\\begin{matrix}0\\\\0\\\\0\\end{matrix}\\right]$$\n",
    "$$\\omega_{1} = \\left[\\begin{matrix}0\\\\0\\\\\\dot{\\theta_1}\\end{matrix}\\right]$$\n",
    "$$\\omega_{2} = \\left[\\begin{matrix}\\dot{\\theta_1} \\sin{\\left(\\theta_{2} \\right)}\\\\\\dot{\\theta_1} \\cos{\\left(\\theta_{2} \\right)}\\\\\\dot{\\theta_2}\\end{matrix}\\right]$$\n",
    "$$\\omega_{3} = \\left[\\begin{matrix}\\dot{\\theta_1} \\sin{\\left(\\theta_{2} \\right)}\\\\- \\dot{\\theta_2}\\\\\\dot{\\theta_1} \\cos{\\left(\\theta_{2} \\right)}\\end{matrix}\\right]$$\n",
    "$$K_{0} = 0$$\n",
    "$$K_{1} = 0$$\n",
    "$$K_{2} = \\frac{m_{2} \\left(\\dot{\\theta_1}^{2} d_{3}^{2} \\sin^{2}{\\left(\\theta_{2} \\right)} + \\dot{\\theta_2}^{2} d_{3}^{2} + \\dot{d_3}^{2}\\right)}{8}$$\n",
    "$$K_{3} = \\frac{m_{3} \\left(\\dot{\\theta_1}^{2} d_{3}^{2} \\sin^{2}{\\left(\\theta_{2} \\right)} + \\dot{\\theta_2}^{2} d_{3}^{2} + \\dot{d_3}^{2}\\right)}{2}$$\n",
    "$$V_{0} = 0$$\n",
    "$$V_{1} = \\frac{L_{1} g m_{1}}{2}$$\n",
    "$$V_{2} = \\frac{g m_{2} \\cdot \\left(2 L_{1} + d_{3} \\cos{\\left(\\theta_{2} \\right)}\\right)}{2}$$\n",
    "$$V_{3} = g m_{3} \\left(L_{1} + d_{3} \\cos{\\left(\\theta_{2} \\right)}\\right)$$\n",
    "$$K_{total} = \\left(\\frac{m_{2}}{8} + \\frac{m_{3}}{2}\\right) \\left(\\dot{\\theta_1}^{2} d_{3}^{2} \\sin^{2}{\\left(\\theta_{2} \\right)} + \\dot{\\theta_2}^{2} d_{3}^{2} + \\dot{d_3}^{2}\\right)$$\n",
    "$$V_{total} = \\frac{g \\left(L_{1} m_{1} + m_{2} \\cdot \\left(2 L_{1} + d_{3} \\cos{\\left(\\theta_{2} \\right)}\\right) + 2 m_{3} \\left(L_{1} + d_{3} \\cos{\\left(\\theta_{2} \\right)}\\right)\\right)}{2}$$\n",
    "$$L = - \\frac{g \\left(L_{1} m_{1} + m_{2} \\cdot \\left(2 L_{1} + d_{3} \\cos{\\left(\\theta_{2} \\right)}\\right) + 2 m_{3} \\left(L_{1} + d_{3} \\cos{\\left(\\theta_{2} \\right)}\\right)\\right)}{2} + \\left(\\frac{m_{2}}{8} + \\frac{m_{3}}{2}\\right) \\left(\\dot{\\theta_1}^{2} d_{3}^{2} \\sin^{2}{\\left(\\theta_{2} \\right)} + \\dot{\\theta_2}^{2} d_{3}^{2} + \\dot{d_3}^{2}\\right)$$"
   ]
  },
  {
   "cell_type": "markdown",
   "metadata": {},
   "source": [
    "Substitute all the necessary values for the Lagrangian:"
   ]
  },
  {
   "cell_type": "code",
   "execution_count": 22,
   "metadata": {},
   "outputs": [
    {
     "name": "stdout",
     "output_type": "stream",
     "text": [
      "{g, theta2, m1, \\dot{d_3}, \\dot{\\theta_2}, d3, \\dot{\\theta_1}, L1, m3, m2}\n"
     ]
    }
   ],
   "source": [
    "lagrangian = equations_lagrange['L']\n",
    "# Find what symbols need to be substituted\n",
    "print(lagrangian.free_symbols)"
   ]
  },
  {
   "cell_type": "code",
   "execution_count": 23,
   "metadata": {},
   "outputs": [
    {
     "data": {
      "text/latex": [
       "$\\displaystyle -18.46$"
      ],
      "text/plain": [
       "-18.46"
      ]
     },
     "execution_count": 23,
     "metadata": {},
     "output_type": "execute_result"
    }
   ],
   "source": [
    "# Define new variables for symbols that don't have any in this scope\n",
    "# Required so we can substitute the values\n",
    "theta_vel1, theta_vel2, d_vel3 = sp.symbols('\\dot{\\\\theta_1}, \\dot{\\\\theta_2}, \\dot{d_3}')\n",
    "subs_map = {\n",
    "    L1:0.5,\n",
    "    theta1:28 * sp.pi/180,\n",
    "    theta2:79 * sp.pi/180,\n",
    "    d3:0.225,\n",
    "    theta_vel1:0.12,\n",
    "    theta_vel2:0.05,\n",
    "    d_vel3:0.56,\n",
    "    g:10,\n",
    "    m1:2.8,\n",
    "    m2:1.4,\n",
    "    m3:0.8\n",
    "}\n",
    "sp.N(lagrangian.subs(subs_map), 4)"
   ]
  },
  {
   "cell_type": "markdown",
   "metadata": {},
   "source": [
    "We can also find the numerical values of all of the derived quantities at once:"
   ]
  },
  {
   "cell_type": "code",
   "execution_count": 24,
   "metadata": {},
   "outputs": [
    {
     "name": "stdout",
     "output_type": "stream",
     "text": [
      "{\\ddot{d_3}, \\ddot{\\theta_1}, \\ddot{\\theta_2}}\n"
     ]
    }
   ],
   "source": [
    "subbed_equations = rtk.substitute_equations_dict(equations_lagrange, subs_map)\n",
    "print(rtk.free_symbols_equations_dict(subbed_equations))"
   ]
  },
  {
   "cell_type": "code",
   "execution_count": 25,
   "metadata": {},
   "outputs": [
    {
     "name": "stdout",
     "output_type": "stream",
     "text": [
      "$$\\tau_{0} = 0$$\n",
      "$$\\tau_{1} = 0.0561 \\ddot{\\theta_1} + 0.03364$$\n",
      "$$\\tau_{2} = 0.05822 \\ddot{\\theta_2} - 3.299$$\n",
      "$$\\tau_{3} = 1.15 \\ddot{d_3} + 2.858$$\n",
      "$$p_{c0} = \\left[\\begin{matrix}0\\\\0\\\\0\\end{matrix}\\right]$$\n",
      "$$p_{c1} = \\left[\\begin{matrix}0\\\\0\\\\0.25\\end{matrix}\\right]$$\n",
      "$$p_{c2} = \\left[\\begin{matrix}-0.09751\\\\-0.05185\\\\0.5215\\end{matrix}\\right]$$\n",
      "$$p_{c3} = \\left[\\begin{matrix}-0.195\\\\-0.1037\\\\0.5429\\end{matrix}\\right]$$\n",
      "$$v_{c0} = \\left[\\begin{matrix}0\\\\0\\\\0\\end{matrix}\\right]$$\n",
      "$$v_{c1} = \\left[\\begin{matrix}0\\\\0\\\\0\\end{matrix}\\right]$$\n",
      "$$v_{c2} = \\left[\\begin{matrix}-0.2374\\\\-0.1412\\\\0.0479\\end{matrix}\\right]$$\n",
      "$$v_{c3} = \\left[\\begin{matrix}-0.4748\\\\-0.2825\\\\0.09581\\end{matrix}\\right]$$\n",
      "$$\\omega_{0} = \\left[\\begin{matrix}0\\\\0\\\\0\\end{matrix}\\right]$$\n",
      "$$\\omega_{1} = \\left[\\begin{matrix}0\\\\0\\\\0.12\\end{matrix}\\right]$$\n",
      "$$\\omega_{2} = \\left[\\begin{matrix}0.1178\\\\0.0229\\\\0.05\\end{matrix}\\right]$$\n",
      "$$\\omega_{3} = \\left[\\begin{matrix}0.1178\\\\-0.05\\\\0.0229\\end{matrix}\\right]$$\n",
      "$$K_{0} = 0$$\n",
      "$$K_{1} = 0$$\n",
      "$$K_{2} = 0.05503$$\n",
      "$$K_{3} = 0.1258$$\n",
      "$$V_{0} = 0$$\n",
      "$$V_{1} = 7.0$$\n",
      "$$V_{2} = 7.301$$\n",
      "$$V_{3} = 4.343$$\n",
      "$$K_{total} = 0.1808$$\n",
      "$$V_{total} = 18.64$$\n",
      "$$L = -18.46$$\n"
     ]
    }
   ],
   "source": [
    "numerical_equations = rtk.round_equations_dict(subbed_equations, 4)\n",
    "rtk.print_equations_dict(numerical_equations, latex=True)"
   ]
  },
  {
   "cell_type": "markdown",
   "metadata": {},
   "source": [
    "$$\\tau_{0} = 0$$\n",
    "$$\\tau_{1} = 0.0561 \\ddot{\\theta_1} + 0.03364$$\n",
    "$$\\tau_{2} = 0.05822 \\ddot{\\theta_2} - 3.299$$\n",
    "$$\\tau_{3} = 1.15 \\ddot{d_3} + 2.858$$\n",
    "$$p_{c0} = \\left[\\begin{matrix}0\\\\0\\\\0\\end{matrix}\\right]$$\n",
    "$$p_{c1} = \\left[\\begin{matrix}0\\\\0\\\\0.25\\end{matrix}\\right]$$\n",
    "$$p_{c2} = \\left[\\begin{matrix}-0.09751\\\\-0.05185\\\\0.5215\\end{matrix}\\right]$$\n",
    "$$p_{c3} = \\left[\\begin{matrix}-0.195\\\\-0.1037\\\\0.5429\\end{matrix}\\right]$$\n",
    "$$v_{c0} = \\left[\\begin{matrix}0\\\\0\\\\0\\end{matrix}\\right]$$\n",
    "$$v_{c1} = \\left[\\begin{matrix}0\\\\0\\\\0\\end{matrix}\\right]$$\n",
    "$$v_{c2} = \\left[\\begin{matrix}-0.2374\\\\-0.1412\\\\0.0479\\end{matrix}\\right]$$\n",
    "$$v_{c3} = \\left[\\begin{matrix}-0.4748\\\\-0.2825\\\\0.09581\\end{matrix}\\right]$$\n",
    "$$\\omega_{0} = \\left[\\begin{matrix}0\\\\0\\\\0\\end{matrix}\\right]$$\n",
    "$$\\omega_{1} = \\left[\\begin{matrix}0\\\\0\\\\0.12\\end{matrix}\\right]$$\n",
    "$$\\omega_{2} = \\left[\\begin{matrix}0.1178\\\\0.0229\\\\0.05\\end{matrix}\\right]$$\n",
    "$$\\omega_{3} = \\left[\\begin{matrix}0.1178\\\\-0.05\\\\0.0229\\end{matrix}\\right]$$\n",
    "$$K_{0} = 0$$\n",
    "$$K_{1} = 0$$\n",
    "$$K_{2} = 0.05503$$\n",
    "$$K_{3} = 0.1258$$\n",
    "$$V_{0} = 0$$\n",
    "$$V_{1} = 7.0$$\n",
    "$$V_{2} = 7.301$$\n",
    "$$V_{3} = 4.343$$\n",
    "$$K_{total} = 0.1808$$\n",
    "$$V_{total} = 18.64$$\n",
    "$$L = -18.46$$"
   ]
  },
  {
   "cell_type": "markdown",
   "metadata": {},
   "source": [
    "### Newton-Euler Dynamics"
   ]
  },
  {
   "cell_type": "markdown",
   "metadata": {},
   "source": [
    "> Consider a PR manipulator with the following transformation matrices\n",
    ">$$\n",
    "{}^0_1T = \\left[\\begin{matrix}\n",
    "1 & 0 & 0 & 0 \\\\\n",
    "0 & 1 & 0 & 0 \\\\\n",
    "0 & 0 & 1 & d_1 \\\\\n",
    "0 & 0 & 0 & 1\n",
    "\\end{matrix}\\right], \\quad\n",
    "\\\n",
    "{}^1_2T = \\left[\\begin{matrix}\n",
    "c_2 & -s_2 & 0 & 0 \\\\\n",
    "0 & 0 & -1 & 0 \\\\\n",
    "s_2 & c_2 & 0 & 0 \\\\\n",
    "0 & 0 & 0 & 1\n",
    "\\end{matrix}\\right], \\quad\n",
    "\\\n",
    "{}^2_3T = \\left[\\begin{matrix}\n",
    "1 & 0 & 0 & 0 \\\\\n",
    "0 & 1 & 0 & L_2 \\\\\n",
    "0 & 0 & 1 & 0 \\\\\n",
    "0 & 0 & 0 & 1\n",
    "\\end{matrix}\\right]$$\n",
    "> The mass centres of links 1 and 2 are located in the middle of the links. The length of link 1 is $L_1$. Both inertia tensors contain the principle inertia terms ($I_{xx}$, $I_{yy}$ and $I_{zz}$) only. The principal frame of each link is parallel to the DH frame and located at the mass centre. Acceleration due to gravity is given by\n",
    ">$${}^0g = \\left[\\begin{matrix}-g\\\\0\\\\0\\end{matrix}\\right] = \\left[\\begin{matrix}-10\\\\0\\\\0\\end{matrix}\\right]$$\n",
    "> An external force ${}^3f_3$ along the positive $x_3$ axis is applied at the tip of the manipulator.\n",
    ">\n",
    "> Find the analytical solution for the joint torques, and evaluate the solution with the following values:\n",
    "> $$ d_1 = 1\\ m, \\quad \\theta_2 = -\\pi/6\\ rad, \\quad L_1 = 1\\ m, \\quad L_2 = 0.5\\ m$$\n",
    "> $$ \\dot{d_1} = \\dot{\\theta_2} = 0, \\quad \\ddot{d_1} = 1\\ m/s, \\quad \\ddot{\\theta_2} = 1\\ rad/s^2$$\n",
    "> $$ m_1 = 10\\ kg, \\quad m_2 = 5\\ kg$$\n",
    "> $$ I_{xx1} = 0.05\\ kgm^2, \\quad I_{yy1} = 0.01\\ kgm^2, \\quad I_{zz1} = 0.2\\ kgm^2$$\n",
    "> $$ I_{xx2} = 0.05\\ kgm^2, \\quad I_{yy2} = 0.01\\ kgm^2, \\quad I_{zz2} = 0.1\\ kgm^2$$\n",
    "> $$ {}^3f_3 = 1\\ N$$"
   ]
  },
  {
   "cell_type": "markdown",
   "metadata": {},
   "source": [
    "Analytical solution:"
   ]
  },
  {
   "cell_type": "code",
   "execution_count": 26,
   "metadata": {},
   "outputs": [],
   "source": [
    "# Define symbolic variables\n",
    "d1, theta2 = sp.symbols('d1, theta2')\n",
    "L1, L2, m1, m2, g = sp.symbols('L1, L2, m1, m2, g')\n",
    "I_xx1, I_yy1, I_zz1, I_xx2, I_yy2, I_zz2 = sp.symbols('I_xx1, I_yy1, I_zz1, I_xx2, I_yy2, I_zz2')\n",
    "\n",
    "# Define the manipulator\n",
    "transforms = [\n",
    "    rtk.trans(0, 0, d1),\n",
    "    sp.Matrix([\n",
    "        [sp.cos(theta2), -sp.sin(theta2), 0, 0],\n",
    "        [0, 0, -1, 0],\n",
    "        [sp.sin(theta2), sp.cos(theta2), 0, 0],\n",
    "        [0, 0, 0, 1]\n",
    "    ]),\n",
    "    rtk.trans(0, L2, 0)\n",
    "]\n",
    "pos_coms = [\n",
    "    sp.zeros(3,1),\n",
    "    sp.Matrix([0, 0, -L1/2]),\n",
    "    sp.Matrix([0, L2/2, 0])\n",
    "]\n",
    "masses = [0, m1, m2]\n",
    "inertias = [\n",
    "    sp.zeros(3),\n",
    "    sp.Matrix([\n",
    "        [I_xx1, 0, 0],\n",
    "        [0, I_yy1, 0],\n",
    "        [0, 0, I_zz1]\n",
    "    ]),\n",
    "    sp.Matrix([\n",
    "        [I_xx2, 0, 0],\n",
    "        [0, I_yy2, 0],\n",
    "        [0, 0, I_zz2]\n",
    "    ]),\n",
    "]\n",
    "joint_types = [0, 'P', 'R']\n",
    "\n",
    "# Define gravity\n",
    "gravity = sp.Matrix([-g, 0, 0])\n",
    "\n",
    "# Define the boundary conditions (for Newton-Euler)\n",
    "f_end = sp.Symbol('f_end')\n",
    "f_end_effector = sp.Matrix([f_end, 0, 0])\n",
    "n_end_effector = sp.zeros(3, 1)\n",
    "\n",
    "# Solve the inverse dynamics\n",
    "equations_newton_euler = rtk.dynamics_newton_euler(transforms, pos_coms, masses, inertias, joint_types, gravity, f_end_effector, n_end_effector)"
   ]
  },
  {
   "cell_type": "code",
   "execution_count": 27,
   "metadata": {},
   "outputs": [
    {
     "data": {
      "text/plain": [
       "dict_keys(['tau', 'omega', 'alpha', 'a', 'a_c', 'f_c', 'n_c', 'f', 'n'])"
      ]
     },
     "execution_count": 27,
     "metadata": {},
     "output_type": "execute_result"
    }
   ],
   "source": [
    "equations_newton_euler.keys()"
   ]
  },
  {
   "cell_type": "code",
   "execution_count": 28,
   "metadata": {},
   "outputs": [
    {
     "name": "stdout",
     "output_type": "stream",
     "text": [
      "$$\\tau_{0} = 0$$\n",
      "$$\\tau_{1} = - \\frac{L_{2} \\ddot{\\theta_2} m_{2} \\sin{\\left(\\theta_{2} \\right)}}{2} - \\frac{L_{2} \\dot{\\theta_2}^{2} m_{2} \\cos{\\left(\\theta_{2} \\right)}}{2} + \\ddot{d_1} \\left(m_{1} + m_{2}\\right) + f_{end} \\sin{\\left(\\theta_{2} \\right)}$$\n",
      "$$\\tau_{2} = - \\frac{L_{2} \\ddot{d_1} m_{2} \\sin{\\left(\\theta_{2} \\right)}}{2} - L_{2} f_{end} - \\frac{L_{2} g m_{2} \\cos{\\left(\\theta_{2} \\right)}}{2} + \\ddot{\\theta_2} \\left(I_{zz2} + \\frac{L_{2}^{2} m_{2}}{4}\\right)$$\n"
     ]
    }
   ],
   "source": [
    "# Get just the joint torque equations\n",
    "equations_joint_torques = {'tau': equations_newton_euler['tau']}\n",
    "rtk.print_equations_dict(equations_joint_torques, latex=True)"
   ]
  },
  {
   "cell_type": "markdown",
   "metadata": {},
   "source": [
    "$$\\tau_{0} = 0$$\n",
    "$$\\tau_{1} = - \\frac{L_{2} \\ddot{\\theta_2} m_{2} \\sin{\\left(\\theta_{2} \\right)}}{2} - \\frac{L_{2} \\dot{\\theta_2}^{2} m_{2} \\cos{\\left(\\theta_{2} \\right)}}{2} + \\ddot{d_1} \\left(m_{1} + m_{2}\\right) + f_{end} \\sin{\\left(\\theta_{2} \\right)}$$\n",
    "$$\\tau_{2} = - \\frac{L_{2} \\ddot{d_1} m_{2} \\sin{\\left(\\theta_{2} \\right)}}{2} - L_{2} f_{end} - \\frac{L_{2} g m_{2} \\cos{\\left(\\theta_{2} \\right)}}{2} + \\ddot{\\theta_2} \\left(I_{zz2} + \\frac{L_{2}^{2} m_{2}}{4}\\right)$$"
   ]
  },
  {
   "cell_type": "markdown",
   "metadata": {},
   "source": [
    "Evaluate with the given values:"
   ]
  },
  {
   "cell_type": "code",
   "execution_count": 29,
   "metadata": {},
   "outputs": [
    {
     "name": "stdout",
     "output_type": "stream",
     "text": [
      "{g, theta2, I_zz2, \\ddot{d_1}, L2, m1, \\dot{\\theta_2}, m2, \\ddot{\\theta_2}, f_end}\n"
     ]
    }
   ],
   "source": [
    "print(rtk.free_symbols_equations_dict(equations_joint_torques))"
   ]
  },
  {
   "cell_type": "code",
   "execution_count": 30,
   "metadata": {},
   "outputs": [
    {
     "name": "stdout",
     "output_type": "stream",
     "text": [
      "$$\\tau_{0} = 0$$\n",
      "$$\\tau_{1} = 15.13$$\n",
      "$$\\tau_{2} = -10.29$$\n"
     ]
    }
   ],
   "source": [
    "d_vel1, theta_vel2, d_accel1, theta_accel2 = sp.symbols('\\dot{d_1}, \\dot{\\\\theta_2}, \\ddot{d_1}, \\ddot{\\\\theta_2}')\n",
    "subs_map = {\n",
    "    d1:1,\n",
    "    theta2:-sp.pi/6,\n",
    "    L1:1,\n",
    "    L2:0.5,\n",
    "    d_vel1:0,\n",
    "    theta_vel2:0,\n",
    "    d_accel1:1,\n",
    "    theta_accel2:1,\n",
    "    m1:10,\n",
    "    m2:5,\n",
    "    I_xx1:0.05,\n",
    "    I_yy1:0.01,\n",
    "    I_zz1:0.2,\n",
    "    I_xx2:0.05,\n",
    "    I_yy2:0.01,\n",
    "    I_zz2:0.1,\n",
    "    f_end:1,\n",
    "    g:10\n",
    "}\n",
    "subbed_equations = rtk.substitute_equations_dict(equations_joint_torques, subs_map)\n",
    "numerical_equations = rtk.round_equations_dict(subbed_equations, 4)\n",
    "rtk.print_equations_dict(numerical_equations, latex=True)"
   ]
  },
  {
   "cell_type": "markdown",
   "metadata": {},
   "source": [
    "$$\\tau_{0} = 0$$\n",
    "$$\\tau_{1} = 15.13$$\n",
    "$$\\tau_{2} = -10.29$$"
   ]
  }
 ],
 "metadata": {
  "kernelspec": {
   "display_name": "Python 3.10.1 64-bit",
   "language": "python",
   "name": "python3"
  },
  "language_info": {
   "codemirror_mode": {
    "name": "ipython",
    "version": 3
   },
   "file_extension": ".py",
   "mimetype": "text/x-python",
   "name": "python",
   "nbconvert_exporter": "python",
   "pygments_lexer": "ipython3",
   "version": "3.10.1"
  },
  "orig_nbformat": 4,
  "vscode": {
   "interpreter": {
    "hash": "0b8fba2c87a7a1c0de088ef2e5548aa9e939a4a70ca9f70e69749950d3f9edc0"
   }
  }
 },
 "nbformat": 4,
 "nbformat_minor": 2
}

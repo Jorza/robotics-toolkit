{
 "cells": [
  {
   "cell_type": "code",
   "execution_count": 18,
   "id": "131ae64c",
   "metadata": {},
   "outputs": [],
   "source": [
    "import sympy as sp\n",
    "import roboticstoolkit as rtk"
   ]
  },
  {
   "cell_type": "code",
   "execution_count": 19,
   "id": "3188d047",
   "metadata": {},
   "outputs": [
    {
     "data": {
      "text/latex": [
       "$\\displaystyle \\left[\\begin{matrix}0.866 & -0.5 & 0 & 10.0\\\\0.5 & 0.866 & 0 & 0\\\\0 & 0 & 1.0 & 5.0\\\\0 & 0 & 0 & 1.0\\end{matrix}\\right]$"
      ],
      "text/plain": [
       "⎡0.866  -0.5    0   10.0⎤\n",
       "⎢                       ⎥\n",
       "⎢ 0.5   0.866   0    0  ⎥\n",
       "⎢                       ⎥\n",
       "⎢  0      0    1.0  5.0 ⎥\n",
       "⎢                       ⎥\n",
       "⎣  0      0     0   1.0 ⎦"
      ]
     },
     "execution_count": 19,
     "metadata": {},
     "output_type": "execute_result"
    }
   ],
   "source": [
    "transform = rtk.trans(10, 0, 5) * rtk.rot_z(sp.pi/6)\n",
    "sp.N(transform, 3)"
   ]
  },
  {
   "cell_type": "code",
   "execution_count": 20,
   "id": "b61a8ec2",
   "metadata": {
    "scrolled": true
   },
   "outputs": [
    {
     "data": {
      "text/latex": [
       "$\\displaystyle \\left[\\begin{matrix}1\\\\\\sqrt{3}\\\\-3\\\\-15 + 5 \\sqrt{3}\\\\- 15 \\sqrt{3} - 5\\\\-16\\end{matrix}\\right]$"
      ],
      "text/plain": [
       "⎡    1     ⎤\n",
       "⎢          ⎥\n",
       "⎢    √3    ⎥\n",
       "⎢          ⎥\n",
       "⎢    -3    ⎥\n",
       "⎢          ⎥\n",
       "⎢-15 + 5⋅√3⎥\n",
       "⎢          ⎥\n",
       "⎢-15⋅√3 - 5⎥\n",
       "⎢          ⎥\n",
       "⎣   -16    ⎦"
      ]
     },
     "execution_count": 20,
     "metadata": {},
     "output_type": "execute_result"
    }
   ],
   "source": [
    "wrench_b = sp.Matrix([1, sp.sqrt(3), -3, 5*(sp.sqrt(3) - 3), -5*(1 + 3*sp.sqrt(3)), -16])\n",
    "wrench_b"
   ]
  },
  {
   "cell_type": "code",
   "execution_count": 21,
   "id": "c437e86b",
   "metadata": {},
   "outputs": [
    {
     "data": {
      "text/latex": [
       "$\\displaystyle \\left[\\begin{matrix}1.0\\\\1.732\\\\-3.0\\\\-6.34\\\\-30.98\\\\-16.0\\end{matrix}\\right]$"
      ],
      "text/plain": [
       "⎡ 1.0  ⎤\n",
       "⎢      ⎥\n",
       "⎢1.732 ⎥\n",
       "⎢      ⎥\n",
       "⎢ -3.0 ⎥\n",
       "⎢      ⎥\n",
       "⎢-6.34 ⎥\n",
       "⎢      ⎥\n",
       "⎢-30.98⎥\n",
       "⎢      ⎥\n",
       "⎣-16.0 ⎦"
      ]
     },
     "execution_count": 21,
     "metadata": {},
     "output_type": "execute_result"
    }
   ],
   "source": [
    "sp.N(wrench_b, 4)"
   ]
  },
  {
   "cell_type": "code",
   "execution_count": 22,
   "id": "760fbf21",
   "metadata": {},
   "outputs": [
    {
     "data": {
      "text/latex": [
       "$\\displaystyle \\left[\\begin{matrix}\\frac{\\sqrt{3}}{2} & - \\frac{1}{2} & 0 & 0 & 0 & 0\\\\\\frac{1}{2} & \\frac{\\sqrt{3}}{2} & 0 & 0 & 0 & 0\\\\0 & 0 & 1 & 0 & 0 & 0\\\\- \\frac{5}{2} & - \\frac{5 \\sqrt{3}}{2} & 0 & \\frac{\\sqrt{3}}{2} & - \\frac{1}{2} & 0\\\\\\frac{5 \\sqrt{3}}{2} & - \\frac{5}{2} & -10 & \\frac{1}{2} & \\frac{\\sqrt{3}}{2} & 0\\\\5 & 5 \\sqrt{3} & 0 & 0 & 0 & 1\\end{matrix}\\right]$"
      ],
      "text/plain": [
       "⎡ √3                            ⎤\n",
       "⎢ ──    -1/2    0    0    0    0⎥\n",
       "⎢ 2                             ⎥\n",
       "⎢                               ⎥\n",
       "⎢        √3                     ⎥\n",
       "⎢1/2     ──     0    0    0    0⎥\n",
       "⎢        2                      ⎥\n",
       "⎢                               ⎥\n",
       "⎢ 0      0      1    0    0    0⎥\n",
       "⎢                               ⎥\n",
       "⎢      -5⋅√3        √3          ⎥\n",
       "⎢-5/2  ──────   0   ──   -1/2  0⎥\n",
       "⎢        2          2           ⎥\n",
       "⎢                               ⎥\n",
       "⎢5⋅√3                     √3    ⎥\n",
       "⎢────   -5/2   -10  1/2   ──   0⎥\n",
       "⎢ 2                       2     ⎥\n",
       "⎢                               ⎥\n",
       "⎣ 5     5⋅√3    0    0    0    1⎦"
      ]
     },
     "execution_count": 22,
     "metadata": {},
     "output_type": "execute_result"
    }
   ],
   "source": [
    "rotation = rtk.rotation(transform)\n",
    "translation_cross = rtk.cross_matrix(rtk.translation(transform))\n",
    "force_transform = sp.Matrix([\n",
    "    [rotation, sp.zeros(3,3)],\n",
    "    [translation_cross * rotation, rotation]\n",
    "])\n",
    "force_transform"
   ]
  },
  {
   "cell_type": "code",
   "execution_count": 23,
   "id": "2c2f027e",
   "metadata": {},
   "outputs": [
    {
     "data": {
      "text/latex": [
       "$\\displaystyle \\left[\\begin{matrix}0\\\\2\\\\-3\\\\0\\\\0\\\\4\\end{matrix}\\right]$"
      ],
      "text/plain": [
       "⎡0 ⎤\n",
       "⎢  ⎥\n",
       "⎢2 ⎥\n",
       "⎢  ⎥\n",
       "⎢-3⎥\n",
       "⎢  ⎥\n",
       "⎢0 ⎥\n",
       "⎢  ⎥\n",
       "⎢0 ⎥\n",
       "⎢  ⎥\n",
       "⎣4 ⎦"
      ]
     },
     "execution_count": 23,
     "metadata": {},
     "output_type": "execute_result"
    }
   ],
   "source": [
    "wrench_a = force_transform * wrench_b\n",
    "sp.simplify(wrench_a)"
   ]
  },
  {
   "cell_type": "code",
   "execution_count": 24,
   "id": "b5fd7253",
   "metadata": {},
   "outputs": [
    {
     "data": {
      "text/latex": [
       "$\\displaystyle \\left[\\begin{matrix}2 x x_{vel}\\\\2 t\\end{matrix}\\right]$"
      ],
      "text/plain": [
       "⎡2⋅x⋅xᵥₑₗ⎤\n",
       "⎢        ⎥\n",
       "⎣  2⋅t   ⎦"
      ]
     },
     "execution_count": 24,
     "metadata": {},
     "output_type": "execute_result"
    }
   ],
   "source": [
    "x, t, x_vel, x_accel = sp.symbols('x, t, x_vel, x_accel')\n",
    "diff_map = {x:x_vel, x_vel:x_accel}\n",
    "diff_expr = rtk.diff_total(sp.Matrix([x**2, t**2]), t, diff_map)\n",
    "diff_expr"
   ]
  },
  {
   "cell_type": "code",
   "execution_count": 25,
   "id": "4a5db7ed",
   "metadata": {},
   "outputs": [
    {
     "data": {
      "text/latex": [
       "$\\displaystyle \\left[\\begin{matrix}2 x x_{accel} + 2 x_{vel}^{2}\\\\2\\end{matrix}\\right]$"
      ],
      "text/plain": [
       "⎡                    2⎤\n",
       "⎢2⋅x⋅x_accel + 2⋅xᵥₑₗ ⎥\n",
       "⎢                     ⎥\n",
       "⎣          2          ⎦"
      ]
     },
     "execution_count": 25,
     "metadata": {},
     "output_type": "execute_result"
    }
   ],
   "source": [
    "rtk.diff_total(diff_expr, t, diff_map)"
   ]
  },
  {
   "cell_type": "code",
   "execution_count": 26,
   "id": "74dcc579",
   "metadata": {},
   "outputs": [
    {
     "data": {
      "text/latex": [
       "$\\displaystyle \\left[\\begin{matrix}0 & \\frac{\\sqrt{2}}{2} & - \\frac{\\sqrt{2}}{2}\\\\0 & - \\frac{\\sqrt{2}}{2} & - \\frac{\\sqrt{2}}{2}\\\\-1 & 0 & 0\\end{matrix}\\right]$"
      ],
      "text/plain": [
       "⎡     √2   -√2 ⎤\n",
       "⎢0    ──   ────⎥\n",
       "⎢     2     2  ⎥\n",
       "⎢              ⎥\n",
       "⎢    -√2   -√2 ⎥\n",
       "⎢0   ────  ────⎥\n",
       "⎢     2     2  ⎥\n",
       "⎢              ⎥\n",
       "⎣-1   0     0  ⎦"
      ]
     },
     "execution_count": 26,
     "metadata": {},
     "output_type": "execute_result"
    }
   ],
   "source": [
    "alpha = sp.pi/2\n",
    "beta = sp.pi/2\n",
    "gamma = -3 * sp.pi/4\n",
    "euler_rot = rtk.euler_ZYX(alpha, beta, gamma)\n",
    "euler_rot"
   ]
  },
  {
   "cell_type": "code",
   "execution_count": 27,
   "id": "e42a58ba",
   "metadata": {},
   "outputs": [
    {
     "data": {
      "image/png": "[encoded data removed]",
      "text/latex": [
       "$\\displaystyle \\left( 0, \\  \\frac{\\pi}{2}, \\  \\frac{3 \\pi}{4}\\right)$"
      ],
      "text/plain": [
       "⎛   π  3⋅π⎞\n",
       "⎜0, ─, ───⎟\n",
       "⎝   2   4 ⎠"
      ]
     },
     "execution_count": 27,
     "metadata": {},
     "output_type": "execute_result"
    }
   ],
   "source": [
    "rtk.euler_ZYX_inverse(euler_rot)"
   ]
  },
  {
   "cell_type": "code",
   "execution_count": 28,
   "id": "15900505",
   "metadata": {},
   "outputs": [
    {
     "data": {
      "text/latex": [
       "$\\displaystyle \\left( \\operatorname{acos}{\\left(- \\frac{1}{2} - \\frac{\\sqrt{2}}{4} \\right)}, \\  \\left[\\begin{matrix}\\frac{1}{\\sqrt{5 - 2 \\sqrt{2}}}\\\\\\frac{-1 + \\sqrt{2}}{\\sqrt{5 - 2 \\sqrt{2}}}\\\\- \\frac{1}{\\sqrt{5 - 2 \\sqrt{2}}}\\end{matrix}\\right]\\right)$"
      ],
      "text/plain": [
       "⎛                ⎡     1      ⎤⎞\n",
       "⎜                ⎢────────────⎥⎟\n",
       "⎜                ⎢  __________⎥⎟\n",
       "⎜                ⎢╲╱ 5 - 2⋅√2 ⎥⎟\n",
       "⎜                ⎢            ⎥⎟\n",
       "⎜                ⎢  -1 + √2   ⎥⎟\n",
       "⎜    ⎛  1   √2⎞  ⎢────────────⎥⎟\n",
       "⎜acos⎜- ─ - ──⎟, ⎢  __________⎥⎟\n",
       "⎜    ⎝  2   4 ⎠  ⎢╲╱ 5 - 2⋅√2 ⎥⎟\n",
       "⎜                ⎢            ⎥⎟\n",
       "⎜                ⎢    -1      ⎥⎟\n",
       "⎜                ⎢────────────⎥⎟\n",
       "⎜                ⎢  __________⎥⎟\n",
       "⎝                ⎣╲╱ 5 - 2⋅√2 ⎦⎠"
      ]
     },
     "execution_count": 28,
     "metadata": {},
     "output_type": "execute_result"
    }
   ],
   "source": [
    "angle, axis = rtk.angle_axis_inverse(euler_rot)\n",
    "sp.simplify(angle), sp.simplify(axis)"
   ]
  },
  {
   "cell_type": "code",
   "execution_count": 29,
   "id": "8e89b572",
   "metadata": {},
   "outputs": [
    {
     "data": {
      "text/latex": [
       "$\\displaystyle \\left[\\begin{matrix}-1 & 0 & 0\\\\0 & -1 & 0\\\\0 & 0 & 1\\end{matrix}\\right]$"
      ],
      "text/plain": [
       "⎡-1  0   0⎤\n",
       "⎢         ⎥\n",
       "⎢0   -1  0⎥\n",
       "⎢         ⎥\n",
       "⎣0   0   1⎦"
      ]
     },
     "execution_count": 29,
     "metadata": {},
     "output_type": "execute_result"
    }
   ],
   "source": [
    "angle_rot = rtk.angle_axis(sp.pi, sp.Matrix([0, 0, 1]))\n",
    "angle_rot"
   ]
  },
  {
   "cell_type": "code",
   "execution_count": 30,
   "id": "2237d433",
   "metadata": {},
   "outputs": [
    {
     "data": {
      "text/latex": [
       "$\\displaystyle \\left( \\pi, \\  \\left[\\begin{matrix}0\\\\0\\\\1\\end{matrix}\\right]\\right)$"
      ],
      "text/plain": [
       "⎛   ⎡0⎤⎞\n",
       "⎜   ⎢ ⎥⎟\n",
       "⎜π, ⎢0⎥⎟\n",
       "⎜   ⎢ ⎥⎟\n",
       "⎝   ⎣1⎦⎠"
      ]
     },
     "execution_count": 30,
     "metadata": {},
     "output_type": "execute_result"
    }
   ],
   "source": [
    "rtk.angle_axis_inverse(angle_rot)"
   ]
  },
  {
   "cell_type": "code",
   "execution_count": null,
   "id": "319eff63",
   "metadata": {},
   "outputs": [],
   "source": []
  }
 ],
 "metadata": {
  "kernelspec": {
   "display_name": "Python 3.10.1 64-bit",
   "language": "python",
   "name": "python3"
  },
  "language_info": {
   "codemirror_mode": {
    "name": "ipython",
    "version": 3
   },
   "file_extension": ".py",
   "mimetype": "text/x-python",
   "name": "python",
   "nbconvert_exporter": "python",
   "pygments_lexer": "ipython3",
   "version": "3.10.1"
  },
  "vscode": {
   "interpreter": {
    "hash": "0b8fba2c87a7a1c0de088ef2e5548aa9e939a4a70ca9f70e69749950d3f9edc0"
   }
  }
 },
 "nbformat": 4,
 "nbformat_minor": 5
}

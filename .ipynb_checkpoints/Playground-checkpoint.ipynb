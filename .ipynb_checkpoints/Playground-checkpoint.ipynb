{
 "cells": [
  {
   "cell_type": "code",
   "execution_count": 18,
   "id": "131ae64c",
   "metadata": {},
   "outputs": [],
   "source": [
    "import roboticstoolkit.kinematics as rtk\n",
    "from sympy.interactive.printing import init_printing\n",
    "init_printing()"
   ]
  },
  {
   "cell_type": "code",
   "execution_count": 17,
   "id": "5866e97e",
   "metadata": {},
   "outputs": [
    {
     "name": "stdout",
     "output_type": "stream",
     "text": [
      "Matrix([[sqrt(3)/2, -1/2, 0, 10], [1/2, sqrt(3)/2, 0, 0], [0, 0, 1, 5], [0, 0, 0, 1]])\n"
     ]
    }
   ],
   "source": [
    "transform = rtk.trans(10, 0, 5) * rtk.rot_z(sp.pi/6)\n",
    "print(transform)"
   ]
  },
  {
   "cell_type": "code",
   "execution_count": null,
   "id": "6f69c518",
   "metadata": {},
   "outputs": [],
   "source": []
  }
 ],
 "metadata": {
  "kernelspec": {
   "display_name": "Python 3 (ipykernel)",
   "language": "python",
   "name": "python3"
  },
  "language_info": {
   "codemirror_mode": {
    "name": "ipython",
    "version": 3
   },
   "file_extension": ".py",
   "mimetype": "text/x-python",
   "name": "python",
   "nbconvert_exporter": "python",
   "pygments_lexer": "ipython3",
   "version": "3.10.1"
  }
 },
 "nbformat": 4,
 "nbformat_minor": 5
}

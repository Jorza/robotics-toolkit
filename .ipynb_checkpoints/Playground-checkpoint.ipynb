{
 "cells": [
  {
   "cell_type": "code",
   "execution_count": 1,
   "id": "131ae64c",
   "metadata": {},
   "outputs": [],
   "source": [
    "import sympy as sp\n",
    "import roboticstoolkit.kinematics as rtk\n",
    "from sympy.interactive.printing import init_printing\n",
    "init_printing(use_unicode=True)"
   ]
  },
  {
   "cell_type": "code",
   "execution_count": 2,
   "id": "4a5d27d4",
   "metadata": {},
   "outputs": [],
   "source": [
    "def round_expr(expr, num_digits):\n",
    "    return expr.xreplace({n : round(n, num_digits) for n in expr.atoms(sp.Number)})"
   ]
  },
  {
   "cell_type": "code",
   "execution_count": 3,
   "id": "3188d047",
   "metadata": {},
   "outputs": [
    {
     "data": {
      "text/latex": [
       "$\\displaystyle \\left[\\begin{matrix}0.866 & -0.5 & 0 & 10\\\\0.5 & 0.866 & 0 & 0\\\\0 & 0 & 1 & 5\\\\0 & 0 & 0 & 1\\end{matrix}\\right]$"
      ],
      "text/plain": [
       "⎡0.866  -0.5   0  10⎤\n",
       "⎢                   ⎥\n",
       "⎢ 0.5   0.866  0  0 ⎥\n",
       "⎢                   ⎥\n",
       "⎢  0      0    1  5 ⎥\n",
       "⎢                   ⎥\n",
       "⎣  0      0    0  1 ⎦"
      ]
     },
     "execution_count": 3,
     "metadata": {},
     "output_type": "execute_result"
    }
   ],
   "source": [
    "transform = rtk.trans(10, 0, 5) * rtk.rot_z(sp.pi/6)\n",
    "round_expr(transform, 3)"
   ]
  },
  {
   "cell_type": "code",
   "execution_count": 9,
   "id": "b61a8ec2",
   "metadata": {
    "scrolled": true
   },
   "outputs": [
    {
     "data": {
      "text/latex": [
       "$\\displaystyle \\left[\\begin{matrix}1\\\\\\sqrt{3}\\\\-3\\\\-15 + 5 \\sqrt{3}\\\\- 15 \\sqrt{3} - 5\\\\-16\\end{matrix}\\right]$"
      ],
      "text/plain": [
       "⎡    1     ⎤\n",
       "⎢          ⎥\n",
       "⎢    √3    ⎥\n",
       "⎢          ⎥\n",
       "⎢    -3    ⎥\n",
       "⎢          ⎥\n",
       "⎢-15 + 5⋅√3⎥\n",
       "⎢          ⎥\n",
       "⎢-15⋅√3 - 5⎥\n",
       "⎢          ⎥\n",
       "⎣   -16    ⎦"
      ]
     },
     "execution_count": 9,
     "metadata": {},
     "output_type": "execute_result"
    }
   ],
   "source": [
    "wrench_b = sp.Matrix([1, sp.sqrt(3), -3, 5*(sp.sqrt(3) - 3), -5*(1 + 3*sp.sqrt(3)), -16])\n",
    "wrench_b"
   ]
  },
  {
   "cell_type": "code",
   "execution_count": 11,
   "id": "c437e86b",
   "metadata": {},
   "outputs": [
    {
     "data": {
      "text/latex": [
       "$\\displaystyle \\left[\\begin{matrix}1\\\\1.732\\\\-3\\\\-6.34\\\\-30.98\\\\-16\\end{matrix}\\right]$"
      ],
      "text/plain": [
       "⎡  1   ⎤\n",
       "⎢      ⎥\n",
       "⎢1.732 ⎥\n",
       "⎢      ⎥\n",
       "⎢  -3  ⎥\n",
       "⎢      ⎥\n",
       "⎢-6.34 ⎥\n",
       "⎢      ⎥\n",
       "⎢-30.98⎥\n",
       "⎢      ⎥\n",
       "⎣ -16  ⎦"
      ]
     },
     "execution_count": 11,
     "metadata": {},
     "output_type": "execute_result"
    }
   ],
   "source": [
    "round_expr(wrench_b, 4)"
   ]
  },
  {
   "cell_type": "code",
   "execution_count": 5,
   "id": "760fbf21",
   "metadata": {},
   "outputs": [
    {
     "data": {
      "text/latex": [
       "$\\displaystyle \\left[\\begin{matrix}\\frac{\\sqrt{3}}{2} & - \\frac{1}{2} & 0 & 0 & 0 & 0\\\\\\frac{1}{2} & \\frac{\\sqrt{3}}{2} & 0 & 0 & 0 & 0\\\\0 & 0 & 1 & 0 & 0 & 0\\\\- \\frac{5}{2} & - \\frac{5 \\sqrt{3}}{2} & 0 & \\frac{\\sqrt{3}}{2} & - \\frac{1}{2} & 0\\\\\\frac{5 \\sqrt{3}}{2} & - \\frac{5}{2} & -10 & \\frac{1}{2} & \\frac{\\sqrt{3}}{2} & 0\\\\5 & 5 \\sqrt{3} & 0 & 0 & 0 & 1\\end{matrix}\\right]$"
      ],
      "text/plain": [
       "⎡ √3                            ⎤\n",
       "⎢ ──    -1/2    0    0    0    0⎥\n",
       "⎢ 2                             ⎥\n",
       "⎢                               ⎥\n",
       "⎢        √3                     ⎥\n",
       "⎢1/2     ──     0    0    0    0⎥\n",
       "⎢        2                      ⎥\n",
       "⎢                               ⎥\n",
       "⎢ 0      0      1    0    0    0⎥\n",
       "⎢                               ⎥\n",
       "⎢      -5⋅√3        √3          ⎥\n",
       "⎢-5/2  ──────   0   ──   -1/2  0⎥\n",
       "⎢        2          2           ⎥\n",
       "⎢                               ⎥\n",
       "⎢5⋅√3                     √3    ⎥\n",
       "⎢────   -5/2   -10  1/2   ──   0⎥\n",
       "⎢ 2                       2     ⎥\n",
       "⎢                               ⎥\n",
       "⎣ 5     5⋅√3    0    0    0    1⎦"
      ]
     },
     "execution_count": 5,
     "metadata": {},
     "output_type": "execute_result"
    }
   ],
   "source": [
    "rotation = rtk.rotation(transform)\n",
    "translation_cross = rtk.cross_matrix(rtk.translation(transform))\n",
    "force_transform = sp.Matrix([\n",
    "    [rotation, sp.zeros(3,3)],\n",
    "    [translation_cross * rotation, rotation]\n",
    "])\n",
    "force_transform"
   ]
  },
  {
   "cell_type": "code",
   "execution_count": 6,
   "id": "2c2f027e",
   "metadata": {},
   "outputs": [
    {
     "data": {
      "text/latex": [
       "$\\displaystyle \\left[\\begin{matrix}0\\\\2\\\\-3\\\\0\\\\0\\\\4\\end{matrix}\\right]$"
      ],
      "text/plain": [
       "⎡0 ⎤\n",
       "⎢  ⎥\n",
       "⎢2 ⎥\n",
       "⎢  ⎥\n",
       "⎢-3⎥\n",
       "⎢  ⎥\n",
       "⎢0 ⎥\n",
       "⎢  ⎥\n",
       "⎢0 ⎥\n",
       "⎢  ⎥\n",
       "⎣4 ⎦"
      ]
     },
     "execution_count": 6,
     "metadata": {},
     "output_type": "execute_result"
    }
   ],
   "source": [
    "wrench_a = force_transform * wrench_b\n",
    "sp.simplify(wrench_a)"
   ]
  },
  {
   "cell_type": "code",
   "execution_count": null,
   "id": "4a70c974",
   "metadata": {},
   "outputs": [],
   "source": []
  }
 ],
 "metadata": {
  "kernelspec": {
   "display_name": "Python 3 (ipykernel)",
   "language": "python",
   "name": "python3"
  },
  "language_info": {
   "codemirror_mode": {
    "name": "ipython",
    "version": 3
   },
   "file_extension": ".py",
   "mimetype": "text/x-python",
   "name": "python",
   "nbconvert_exporter": "python",
   "pygments_lexer": "ipython3",
   "version": "3.10.1"
  }
 },
 "nbformat": 4,
 "nbformat_minor": 5
}
